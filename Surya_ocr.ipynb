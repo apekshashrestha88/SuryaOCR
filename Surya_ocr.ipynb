{
  "cells": [
    {
      "cell_type": "code",
      "execution_count": 1,
      "metadata": {
        "colab": {
          "base_uri": "https://localhost:8080/"
        },
        "id": "HsLifjzG5zQZ",
        "outputId": "12688935-1d8d-4057-9c0a-1eb19021aab2"
      },
      "outputs": [
        {
          "name": "stdout",
          "output_type": "stream",
          "text": [
            "Requirement already satisfied: surya-ocr in /usr/local/lib/python3.10/dist-packages (0.8.0)\n",
            "Requirement already satisfied: filetype<2.0.0,>=1.2.0 in /usr/local/lib/python3.10/dist-packages (from surya-ocr) (1.2.0)\n",
            "Requirement already satisfied: ftfy<7.0.0,>=6.1.3 in /usr/local/lib/python3.10/dist-packages (from surya-ocr) (6.3.1)\n",
            "Requirement already satisfied: opencv-python<5.0.0.0,>=4.9.0.80 in /usr/local/lib/python3.10/dist-packages (from surya-ocr) (4.10.0.84)\n",
            "Requirement already satisfied: pdftext<0.5.0,>=0.4.0 in /usr/local/lib/python3.10/dist-packages (from surya-ocr) (0.4.0)\n",
            "Requirement already satisfied: pillow<11.0.0,>=10.2.0 in /usr/local/lib/python3.10/dist-packages (from surya-ocr) (10.4.0)\n",
            "Requirement already satisfied: pydantic<3.0.0,>=2.5.3 in /usr/local/lib/python3.10/dist-packages (from surya-ocr) (2.10.3)\n",
            "Requirement already satisfied: pydantic-settings<3.0.0,>=2.1.0 in /usr/local/lib/python3.10/dist-packages (from surya-ocr) (2.7.0)\n",
            "Requirement already satisfied: pypdfium2<5.0.0,>=4.25.0 in /usr/local/lib/python3.10/dist-packages (from surya-ocr) (4.30.0)\n",
            "Requirement already satisfied: python-dotenv<2.0.0,>=1.0.0 in /usr/local/lib/python3.10/dist-packages (from surya-ocr) (1.0.1)\n",
            "Requirement already satisfied: tabulate<0.10.0,>=0.9.0 in /usr/local/lib/python3.10/dist-packages (from surya-ocr) (0.9.0)\n",
            "Requirement already satisfied: torch<3.0.0,>=2.4.1 in /usr/local/lib/python3.10/dist-packages (from surya-ocr) (2.5.1+cu121)\n",
            "Requirement already satisfied: transformers<5.0.0,>=4.41.0 in /usr/local/lib/python3.10/dist-packages (from surya-ocr) (4.47.0)\n",
            "Requirement already satisfied: wcwidth in /usr/local/lib/python3.10/dist-packages (from ftfy<7.0.0,>=6.1.3->surya-ocr) (0.2.13)\n",
            "Requirement already satisfied: numpy>=1.21.2 in /usr/local/lib/python3.10/dist-packages (from opencv-python<5.0.0.0,>=4.9.0.80->surya-ocr) (1.26.4)\n",
            "Requirement already satisfied: annotated-types>=0.6.0 in /usr/local/lib/python3.10/dist-packages (from pydantic<3.0.0,>=2.5.3->surya-ocr) (0.7.0)\n",
            "Requirement already satisfied: pydantic-core==2.27.1 in /usr/local/lib/python3.10/dist-packages (from pydantic<3.0.0,>=2.5.3->surya-ocr) (2.27.1)\n",
            "Requirement already satisfied: typing-extensions>=4.12.2 in /usr/local/lib/python3.10/dist-packages (from pydantic<3.0.0,>=2.5.3->surya-ocr) (4.12.2)\n",
            "Requirement already satisfied: filelock in /usr/local/lib/python3.10/dist-packages (from torch<3.0.0,>=2.4.1->surya-ocr) (3.16.1)\n",
            "Requirement already satisfied: networkx in /usr/local/lib/python3.10/dist-packages (from torch<3.0.0,>=2.4.1->surya-ocr) (3.4.2)\n",
            "Requirement already satisfied: jinja2 in /usr/local/lib/python3.10/dist-packages (from torch<3.0.0,>=2.4.1->surya-ocr) (3.1.4)\n",
            "Requirement already satisfied: fsspec in /usr/local/lib/python3.10/dist-packages (from torch<3.0.0,>=2.4.1->surya-ocr) (2024.10.0)\n",
            "Requirement already satisfied: sympy==1.13.1 in /usr/local/lib/python3.10/dist-packages (from torch<3.0.0,>=2.4.1->surya-ocr) (1.13.1)\n",
            "Requirement already satisfied: mpmath<1.4,>=1.1.0 in /usr/local/lib/python3.10/dist-packages (from sympy==1.13.1->torch<3.0.0,>=2.4.1->surya-ocr) (1.3.0)\n",
            "Requirement already satisfied: huggingface-hub<1.0,>=0.24.0 in /usr/local/lib/python3.10/dist-packages (from transformers<5.0.0,>=4.41.0->surya-ocr) (0.27.0)\n",
            "Requirement already satisfied: packaging>=20.0 in /usr/local/lib/python3.10/dist-packages (from transformers<5.0.0,>=4.41.0->surya-ocr) (24.2)\n",
            "Requirement already satisfied: pyyaml>=5.1 in /usr/local/lib/python3.10/dist-packages (from transformers<5.0.0,>=4.41.0->surya-ocr) (6.0.2)\n",
            "Requirement already satisfied: regex!=2019.12.17 in /usr/local/lib/python3.10/dist-packages (from transformers<5.0.0,>=4.41.0->surya-ocr) (2024.11.6)\n",
            "Requirement already satisfied: requests in /usr/local/lib/python3.10/dist-packages (from transformers<5.0.0,>=4.41.0->surya-ocr) (2.32.3)\n",
            "Requirement already satisfied: tokenizers<0.22,>=0.21 in /usr/local/lib/python3.10/dist-packages (from transformers<5.0.0,>=4.41.0->surya-ocr) (0.21.0)\n",
            "Requirement already satisfied: safetensors>=0.4.1 in /usr/local/lib/python3.10/dist-packages (from transformers<5.0.0,>=4.41.0->surya-ocr) (0.4.5)\n",
            "Requirement already satisfied: tqdm>=4.27 in /usr/local/lib/python3.10/dist-packages (from transformers<5.0.0,>=4.41.0->surya-ocr) (4.67.1)\n",
            "Requirement already satisfied: MarkupSafe>=2.0 in /usr/local/lib/python3.10/dist-packages (from jinja2->torch<3.0.0,>=2.4.1->surya-ocr) (3.0.2)\n",
            "Requirement already satisfied: charset-normalizer<4,>=2 in /usr/local/lib/python3.10/dist-packages (from requests->transformers<5.0.0,>=4.41.0->surya-ocr) (3.4.0)\n",
            "Requirement already satisfied: idna<4,>=2.5 in /usr/local/lib/python3.10/dist-packages (from requests->transformers<5.0.0,>=4.41.0->surya-ocr) (3.10)\n",
            "Requirement already satisfied: urllib3<3,>=1.21.1 in /usr/local/lib/python3.10/dist-packages (from requests->transformers<5.0.0,>=4.41.0->surya-ocr) (2.2.3)\n",
            "Requirement already satisfied: certifi>=2017.4.17 in /usr/local/lib/python3.10/dist-packages (from requests->transformers<5.0.0,>=4.41.0->surya-ocr) (2024.12.14)\n"
          ]
        }
      ],
      "source": [
        "!pip install surya-ocr"
      ]
    },
    {
      "cell_type": "code",
      "execution_count": 2,
      "metadata": {
        "colab": {
          "base_uri": "https://localhost:8080/"
        },
        "id": "WZ8o-GR06Lnc",
        "outputId": "e101157b-8113-4e94-94e7-aac6eef3259c"
      },
      "outputs": [
        {
          "name": "stdout",
          "output_type": "stream",
          "text": [
            "Requirement already satisfied: streamlit in /usr/local/lib/python3.10/dist-packages (1.41.1)\n",
            "Requirement already satisfied: altair<6,>=4.0 in /usr/local/lib/python3.10/dist-packages (from streamlit) (5.5.0)\n",
            "Requirement already satisfied: blinker<2,>=1.0.0 in /usr/local/lib/python3.10/dist-packages (from streamlit) (1.9.0)\n",
            "Requirement already satisfied: cachetools<6,>=4.0 in /usr/local/lib/python3.10/dist-packages (from streamlit) (5.5.0)\n",
            "Requirement already satisfied: click<9,>=7.0 in /usr/local/lib/python3.10/dist-packages (from streamlit) (8.1.7)\n",
            "Requirement already satisfied: numpy<3,>=1.23 in /usr/local/lib/python3.10/dist-packages (from streamlit) (1.26.4)\n",
            "Requirement already satisfied: packaging<25,>=20 in /usr/local/lib/python3.10/dist-packages (from streamlit) (24.2)\n",
            "Requirement already satisfied: pandas<3,>=1.4.0 in /usr/local/lib/python3.10/dist-packages (from streamlit) (2.2.2)\n",
            "Requirement already satisfied: pillow<12,>=7.1.0 in /usr/local/lib/python3.10/dist-packages (from streamlit) (10.4.0)\n",
            "Requirement already satisfied: protobuf<6,>=3.20 in /usr/local/lib/python3.10/dist-packages (from streamlit) (4.25.5)\n",
            "Requirement already satisfied: pyarrow>=7.0 in /usr/local/lib/python3.10/dist-packages (from streamlit) (17.0.0)\n",
            "Requirement already satisfied: requests<3,>=2.27 in /usr/local/lib/python3.10/dist-packages (from streamlit) (2.32.3)\n",
            "Requirement already satisfied: rich<14,>=10.14.0 in /usr/local/lib/python3.10/dist-packages (from streamlit) (13.9.4)\n",
            "Requirement already satisfied: tenacity<10,>=8.1.0 in /usr/local/lib/python3.10/dist-packages (from streamlit) (9.0.0)\n",
            "Requirement already satisfied: toml<2,>=0.10.1 in /usr/local/lib/python3.10/dist-packages (from streamlit) (0.10.2)\n",
            "Requirement already satisfied: typing-extensions<5,>=4.3.0 in /usr/local/lib/python3.10/dist-packages (from streamlit) (4.12.2)\n",
            "Requirement already satisfied: watchdog<7,>=2.1.5 in /usr/local/lib/python3.10/dist-packages (from streamlit) (6.0.0)\n",
            "Requirement already satisfied: gitpython!=3.1.19,<4,>=3.0.7 in /usr/local/lib/python3.10/dist-packages (from streamlit) (3.1.43)\n",
            "Requirement already satisfied: pydeck<1,>=0.8.0b4 in /usr/local/lib/python3.10/dist-packages (from streamlit) (0.9.1)\n",
            "Requirement already satisfied: tornado<7,>=6.0.3 in /usr/local/lib/python3.10/dist-packages (from streamlit) (6.3.3)\n",
            "Requirement already satisfied: jinja2 in /usr/local/lib/python3.10/dist-packages (from altair<6,>=4.0->streamlit) (3.1.4)\n",
            "Requirement already satisfied: jsonschema>=3.0 in /usr/local/lib/python3.10/dist-packages (from altair<6,>=4.0->streamlit) (4.23.0)\n",
            "Requirement already satisfied: narwhals>=1.14.2 in /usr/local/lib/python3.10/dist-packages (from altair<6,>=4.0->streamlit) (1.18.4)\n",
            "Requirement already satisfied: gitdb<5,>=4.0.1 in /usr/local/lib/python3.10/dist-packages (from gitpython!=3.1.19,<4,>=3.0.7->streamlit) (4.0.11)\n",
            "Requirement already satisfied: python-dateutil>=2.8.2 in /usr/local/lib/python3.10/dist-packages (from pandas<3,>=1.4.0->streamlit) (2.8.2)\n",
            "Requirement already satisfied: pytz>=2020.1 in /usr/local/lib/python3.10/dist-packages (from pandas<3,>=1.4.0->streamlit) (2024.2)\n",
            "Requirement already satisfied: tzdata>=2022.7 in /usr/local/lib/python3.10/dist-packages (from pandas<3,>=1.4.0->streamlit) (2024.2)\n",
            "Requirement already satisfied: charset-normalizer<4,>=2 in /usr/local/lib/python3.10/dist-packages (from requests<3,>=2.27->streamlit) (3.4.0)\n",
            "Requirement already satisfied: idna<4,>=2.5 in /usr/local/lib/python3.10/dist-packages (from requests<3,>=2.27->streamlit) (3.10)\n",
            "Requirement already satisfied: urllib3<3,>=1.21.1 in /usr/local/lib/python3.10/dist-packages (from requests<3,>=2.27->streamlit) (2.2.3)\n",
            "Requirement already satisfied: certifi>=2017.4.17 in /usr/local/lib/python3.10/dist-packages (from requests<3,>=2.27->streamlit) (2024.12.14)\n",
            "Requirement already satisfied: markdown-it-py>=2.2.0 in /usr/local/lib/python3.10/dist-packages (from rich<14,>=10.14.0->streamlit) (3.0.0)\n",
            "Requirement already satisfied: pygments<3.0.0,>=2.13.0 in /usr/local/lib/python3.10/dist-packages (from rich<14,>=10.14.0->streamlit) (2.18.0)\n",
            "Requirement already satisfied: smmap<6,>=3.0.1 in /usr/local/lib/python3.10/dist-packages (from gitdb<5,>=4.0.1->gitpython!=3.1.19,<4,>=3.0.7->streamlit) (5.0.1)\n",
            "Requirement already satisfied: MarkupSafe>=2.0 in /usr/local/lib/python3.10/dist-packages (from jinja2->altair<6,>=4.0->streamlit) (3.0.2)\n",
            "Requirement already satisfied: attrs>=22.2.0 in /usr/local/lib/python3.10/dist-packages (from jsonschema>=3.0->altair<6,>=4.0->streamlit) (24.3.0)\n",
            "Requirement already satisfied: jsonschema-specifications>=2023.03.6 in /usr/local/lib/python3.10/dist-packages (from jsonschema>=3.0->altair<6,>=4.0->streamlit) (2024.10.1)\n",
            "Requirement already satisfied: referencing>=0.28.4 in /usr/local/lib/python3.10/dist-packages (from jsonschema>=3.0->altair<6,>=4.0->streamlit) (0.35.1)\n",
            "Requirement already satisfied: rpds-py>=0.7.1 in /usr/local/lib/python3.10/dist-packages (from jsonschema>=3.0->altair<6,>=4.0->streamlit) (0.22.3)\n",
            "Requirement already satisfied: mdurl~=0.1 in /usr/local/lib/python3.10/dist-packages (from markdown-it-py>=2.2.0->rich<14,>=10.14.0->streamlit) (0.1.2)\n",
            "Requirement already satisfied: six>=1.5 in /usr/local/lib/python3.10/dist-packages (from python-dateutil>=2.8.2->pandas<3,>=1.4.0->streamlit) (1.17.0)\n",
            "\n",
            "Collecting usage statistics. To deactivate, set browser.gatherUsageStats to false.\n",
            "\u001b[0m\n",
            "\u001b[0m\n",
            "\u001b[34m\u001b[1m  You can now view your Streamlit app in your browser.\u001b[0m\n",
            "\u001b[0m\n",
            "\u001b[34m  Local URL: \u001b[0m\u001b[1mhttp://localhost:8501\u001b[0m\n",
            "\u001b[34m  Network URL: \u001b[0m\u001b[1mhttp://172.28.0.12:8501\u001b[0m\n",
            "\u001b[34m  External URL: \u001b[0m\u001b[1mhttp://34.124.148.199:8501\u001b[0m\n",
            "\u001b[0m\n",
            "\u001b[34m  Stopping...\u001b[0m\n",
            "Traceback (most recent call last):\n",
            "  File \"/usr/local/bin/surya_gui\", line 8, in <module>\n",
            "    sys.exit(run_app())\n",
            "  File \"/usr/local/lib/python3.10/dist-packages/run_ocr_app.py\", line 10, in run_app\n",
            "    subprocess.run(cmd, env={**os.environ, \"IN_STREAMLIT\": \"true\"})\n",
            "  File \"/usr/lib/python3.10/subprocess.py\", line 505, in run\n",
            "    stdout, stderr = process.communicate(input, timeout=timeout)\n",
            "  File \"/usr/lib/python3.10/subprocess.py\", line 1146, in communicate\n",
            "    self.wait()\n",
            "  File \"/usr/lib/python3.10/subprocess.py\", line 1209, in wait\n",
            "    return self._wait(timeout=timeout)\n",
            "  File \"/usr/lib/python3.10/subprocess.py\", line 1959, in _wait\n",
            "    (pid, sts) = self._try_wait(0)\n",
            "  File \"/usr/lib/python3.10/subprocess.py\", line 1917, in _try_wait\n",
            "    (pid, sts) = os.waitpid(self.pid, wait_flags)\n",
            "KeyboardInterrupt\n",
            "^C\n"
          ]
        }
      ],
      "source": [
        "!pip install streamlit\n",
        "!surya_gui"
      ]
    },
    {
      "cell_type": "code",
      "execution_count": 20,
      "metadata": {
        "colab": {
          "base_uri": "https://localhost:8080/"
        },
        "id": "mDfULqhD8H6i",
        "outputId": "c10c0bd5-1034-4fdc-dcc8-4e91eb213c0e"
      },
      "outputs": [
        {
          "name": "stdout",
          "output_type": "stream",
          "text": [
            "Loaded detection model vikp/surya_det3 on device cuda with dtype torch.float16\n",
            "Loaded recognition model vikp/surya_rec2 on device cuda with dtype torch.float16\n"
          ]
        },
        {
          "name": "stderr",
          "output_type": "stream",
          "text": [
            "Detecting bboxes: 100%|██████████| 1/1 [00:00<00:00,  2.99it/s]\n",
            "Recognizing Text: 100%|██████████| 1/1 [00:02<00:00,  2.02s/it]\n"
          ]
        }
      ],
      "source": [
        "from PIL import Image\n",
        "from surya.ocr import run_ocr\n",
        "from surya.model.detection.model import load_model as load_det_model, load_processor as load_det_processor\n",
        "from surya.model.recognition.model import load_model as load_rec_model\n",
        "from surya.model.recognition.processor import load_processor as load_rec_processor\n",
        "\n",
        "image = Image.open(\"/content/document.png\")\n",
        "langs = [\"ne\",\"en\"] \n",
        "det_processor, det_model = load_det_processor(), load_det_model()\n",
        "rec_model, rec_processor = load_rec_model(), load_rec_processor()\n",
        "\n",
        "predictions = run_ocr([image], [langs], det_model, det_processor, rec_model, rec_processor)"
      ]
    },
    {
      "cell_type": "code",
      "execution_count": 21,
      "metadata": {
        "colab": {
          "base_uri": "https://localhost:8080/"
        },
        "id": "EmUSWnQ-ELVw",
        "outputId": "47de49cb-155d-47e5-a98d-d6b61e7aafc4"
      },
      "outputs": [
        {
          "name": "stdout",
          "output_type": "stream",
          "text": [
            "OCR results saved to '/content/ocr_results (4).txt'\n"
          ]
        }
      ],
      "source": [
        "#assuming predictions is a list of results for each image\n",
        "ocr_results = []\n",
        "\n",
        "for pred in predictions[0]:  #Process the predictions for the first image\n",
        "    box, text = pred  #Each prediction contains a bounding box and recognized text\n",
        "   \n",
        "    if isinstance(text, list):\n",
        "        # Convert TextLine objects to strings before joining\n",
        "        text = \" \".join([str(t) for t in text])\n",
        "    if text.strip():  # Ignore empty text predictions\n",
        "        ocr_results.append(f\"Text: {text}\\nPosition: {box}\\n\")\n",
        "\n",
        "#save the results to a text file\n",
        "file_path = \"/content/ocr_results (4).txt\"\n",
        "with open(file_path, \"w\", encoding=\"utf-8\") as file:\n",
        "    for result in ocr_results:\n",
        "        file.write(result + \"\\n\")\n",
        "\n",
        "print(f\"OCR results saved to '{file_path}'\")\n"
      ]
    },
    {
      "cell_type": "code",
      "execution_count": 25,
      "metadata": {
        "colab": {
          "base_uri": "https://localhost:8080/"
        },
        "id": "Ei5YVbAs_A30",
        "outputId": "f8a6c526-aacb-4a44-e429-0f683625060e"
      },
      "outputs": [
        {
          "name": "stdout",
          "output_type": "stream",
          "text": [
            "Collecting tabled\n",
            "  Downloading tabled-0.1.17-py3-none-any.whl.metadata (8.8 kB)\n",
            "Requirement already satisfied: pandas in /usr/local/lib/python3.10/dist-packages (from tabled) (2.2.2)\n",
            "Collecting dol (from tabled)\n",
            "  Downloading dol-0.2.94-py3-none-any.whl.metadata (18 kB)\n",
            "Collecting i2 (from tabled)\n",
            "  Downloading i2-0.1.45-py3-none-any.whl.metadata (2.1 kB)\n",
            "Requirement already satisfied: charset-normalizer in /usr/local/lib/python3.10/dist-packages (from tabled) (3.4.0)\n",
            "Requirement already satisfied: pyarrow in /usr/local/lib/python3.10/dist-packages (from tabled) (17.0.0)\n",
            "Requirement already satisfied: numpy>=1.22.4 in /usr/local/lib/python3.10/dist-packages (from pandas->tabled) (1.26.4)\n",
            "Requirement already satisfied: python-dateutil>=2.8.2 in /usr/local/lib/python3.10/dist-packages (from pandas->tabled) (2.8.2)\n",
            "Requirement already satisfied: pytz>=2020.1 in /usr/local/lib/python3.10/dist-packages (from pandas->tabled) (2024.2)\n",
            "Requirement already satisfied: tzdata>=2022.7 in /usr/local/lib/python3.10/dist-packages (from pandas->tabled) (2024.2)\n",
            "Requirement already satisfied: six>=1.5 in /usr/local/lib/python3.10/dist-packages (from python-dateutil>=2.8.2->pandas->tabled) (1.17.0)\n",
            "Downloading tabled-0.1.17-py3-none-any.whl (43 kB)\n",
            "\u001b[2K   \u001b[90m━━━━━━━━━━━━━━━━━━━━━━━━━━━━━━━━━━━━━━━━\u001b[0m \u001b[32m43.1/43.1 kB\u001b[0m \u001b[31m3.2 MB/s\u001b[0m eta \u001b[36m0:00:00\u001b[0m\n",
            "\u001b[?25hDownloading dol-0.2.94-py3-none-any.whl (245 kB)\n",
            "\u001b[2K   \u001b[90m━━━━━━━━━━━━━━━━━━━━━━━━━━━━━━━━━━━━━━━━\u001b[0m \u001b[32m245.2/245.2 kB\u001b[0m \u001b[31m20.3 MB/s\u001b[0m eta \u001b[36m0:00:00\u001b[0m\n",
            "\u001b[?25hDownloading i2-0.1.45-py3-none-any.whl (202 kB)\n",
            "\u001b[2K   \u001b[90m━━━━━━━━━━━━━━━━━━━━━━━━━━━━━━━━━━━━━━━━\u001b[0m \u001b[32m202.8/202.8 kB\u001b[0m \u001b[31m16.9 MB/s\u001b[0m eta \u001b[36m0:00:00\u001b[0m\n",
            "\u001b[?25hInstalling collected packages: i2, dol, tabled\n",
            "Successfully installed dol-0.2.94 i2-0.1.45 tabled-0.1.17\n"
          ]
        }
      ],
      "source": [
        "!pip install tabled\n"
      ]
    },
    {
      "cell_type": "code",
      "execution_count": 5,
      "metadata": {
        "colab": {
          "base_uri": "https://localhost:8080/",
          "height": 17
        },
        "id": "OMyKq2139DrG",
        "outputId": "59f1787b-6de8-42c4-b304-871330b515cc"
      },
      "outputs": [
        {
          "data": {
            "application/javascript": "\n    async function download(id, filename, size) {\n      if (!google.colab.kernel.accessAllowed) {\n        return;\n      }\n      const div = document.createElement('div');\n      const label = document.createElement('label');\n      label.textContent = `Downloading \"${filename}\": `;\n      div.appendChild(label);\n      const progress = document.createElement('progress');\n      progress.max = size;\n      div.appendChild(progress);\n      document.body.appendChild(div);\n\n      const buffers = [];\n      let downloaded = 0;\n\n      const channel = await google.colab.kernel.comms.open(id);\n      // Send a message to notify the kernel that we're ready.\n      channel.send({})\n\n      for await (const message of channel.messages) {\n        // Send a message to notify the kernel that we're ready.\n        channel.send({})\n        if (message.buffers) {\n          for (const buffer of message.buffers) {\n            buffers.push(buffer);\n            downloaded += buffer.byteLength;\n            progress.value = downloaded;\n          }\n        }\n      }\n      const blob = new Blob(buffers, {type: 'application/binary'});\n      const a = document.createElement('a');\n      a.href = window.URL.createObjectURL(blob);\n      a.download = filename;\n      div.appendChild(a);\n      a.click();\n      div.remove();\n    }\n  ",
            "text/plain": [
              "<IPython.core.display.Javascript object>"
            ]
          },
          "metadata": {},
          "output_type": "display_data"
        },
        {
          "data": {
            "application/javascript": "download(\"download_fb3af0b8-43dd-41ff-9ef4-1b1012a3e77b\", \"ocr_results.txt\", 7833)",
            "text/plain": [
              "<IPython.core.display.Javascript object>"
            ]
          },
          "metadata": {},
          "output_type": "display_data"
        }
      ],
      "source": [
        "from google.colab import files\n",
        "\n",
        "# Replace 'ocr_results.csv' with the name of your file\n",
        "files.download(\"ocr_results.txt\")\n"
      ]
    },
    {
      "cell_type": "code",
      "execution_count": 22,
      "metadata": {
        "colab": {
          "base_uri": "https://localhost:8080/"
        },
        "id": "jcuPqS9OFaST",
        "outputId": "0d4225dc-5588-450a-a9fa-0b7700785f22"
      },
      "outputs": [
        {
          "data": {
            "text/plain": [
              "[TextLine(polygon=[[785.0, 62.0], [898.0, 64.0], [897.0, 82.0], [784.0, 80.0]], confidence=0.98095703125, text='केन्द्रीय कार्यालय', bbox=[785.0, 62.0, 898.0, 82.0]),\n",
              " TextLine(polygon=[[764.0, 90.0], [919.0, 90.0], [919.0, 108.0], [764.0, 108.0]], confidence=0.94580078125, text='बालवाटार, काठमाडौँ ।', bbox=[764.0, 90.0, 919.0, 108.0]),\n",
              " TextLine(polygon=[[745.0, 122.0], [935.0, 122.0], [935.0, 140.0], [745.0, 140.0]], confidence=0.91943359375, text='फोन नं.: ४४९९८०४/५', bbox=[745.0, 122.0, 935.0, 140.0]),\n",
              " TextLine(polygon=[[759.0, 147.0], [921.0, 151.0], [921.0, 168.0], [758.0, 164.0]], confidence=0.994140625, text='Web Site: www.nrb.org.np', bbox=[759.0, 147.0, 921.0, 168.0]),\n",
              " TextLine(polygon=[[787.0, 179.0], [892.0, 181.0], [891.0, 198.0], [787.0, 196.0]], confidence=0.95849609375, text='पोष्ट बक्स:७३', bbox=[787.0, 179.0, 892.0, 198.0]),\n",
              " TextLine(polygon=[[98.0, 209.0], [526.0, 224.0], [526.0, 251.0], [97.0, 236.0]], confidence=0.9912109375, text='बैंक तथा वित्तीय संस्था नियमन विभाग', bbox=[98.0, 209.0, 526.0, 251.0]),\n",
              " TextLine(polygon=[[95.0, 274.0], [547.0, 288.0], [547.0, 311.0], [95.0, 297.0]], confidence=0.96435546875, text='पत्र  संख्या:  बै.वि.नि.वि. / नीति / परिपत्र / ०४ / ०८० / ५१', bbox=[95.0, 274.0, 547.0, 311.0]),\n",
              " TextLine(polygon=[[784.0, 295.0], [974.0, 301.0], [973.0, 322.0], [783.0, 316.0]], confidence=0.9453125, text='मिति: २०८०/०६/३०', bbox=[784.0, 295.0, 974.0, 322.0]),\n",
              " TextLine(polygon=[[95.0, 335.0], [691.0, 349.0], [691.0, 374.0], [95.0, 360.0]], confidence=0.9794921875, text='इजाजतपत्रप्रप्राप्त “क”, “ख” र “ग” वर्गका बैंक तथा वित्तीय संस्थाहरु,', bbox=[95.0, 335.0, 691.0, 374.0]),\n",
              " TextLine(polygon=[[93.0, 410.0], [161.0, 410.0], [161.0, 427.0], [93.0, 427.0]], confidence=0.96142578125, text='महाशय.', bbox=[93.0, 410.0, 161.0, 427.0]),\n",
              " TextLine(polygon=[[123.0, 445.0], [977.0, 466.0], [977.0, 493.0], [122.0, 471.0]], confidence=0.97021484375, text='यस वैंकवाट “क”, “ख” र “ग” वर्गका इजाजतपत्रप्राप्त बैंक तथा वित्तीय संस्थाहरुलाई जारी', bbox=[123.0, 445.0, 977.0, 493.0]),\n",
              " TextLine(polygon=[[90.0, 476.0], [977.0, 498.0], [976.0, 524.0], [90.0, 501.0]], confidence=0.98583984375, text='गरिएको एकीकृत निर्देशन, २०७९ तथा सो पश्चीत २०८० असोज मसान्तसम्म जारी गरिएका परिपत्र', bbox=[90.0, 476.0, 977.0, 524.0]),\n",
              " TextLine(polygon=[[89.0, 503.0], [976.0, 529.0], [976.0, 554.0], [89.0, 527.0]], confidence=0.9912109375, text='तथा संशोधनहरु एकीकृत गरी तयार पारिएको यसै साथ संलग्न एकीक्त निर्देशन, २०५० जारी गरिएको', bbox=[89.0, 503.0, 976.0, 554.0]),\n",
              " TextLine(polygon=[[88.0, 533.0], [974.0, 558.0], [973.0, 585.0], [88.0, 560.0]], confidence=0.9697265625, text='हुँदा सोहीबमोजिम गर्नु/गराउनु हुन नेपाल राष्ट्र बैंक ऐन, २०५८ को दफा ७९ ले दिएको अधिकार', bbox=[88.0, 533.0, 974.0, 585.0]),\n",
              " TextLine(polygon=[[88.0, 564.0], [444.0, 575.0], [444.0, 597.0], [87.0, 587.0]], confidence=0.9853515625, text='प्रयोग गरी यो निर्देशन जारी गरिएको छ ।', bbox=[88.0, 564.0, 444.0, 597.0]),\n",
              " TextLine(polygon=[[775.0, 740.0], [840.0, 740.0], [840.0, 757.0], [775.0, 757.0]], confidence=0.9111328125, text='भवदीय', bbox=[775.0, 740.0, 840.0, 757.0]),\n",
              " TextLine(polygon=[[719.0, 865.0], [910.0, 868.0], [909.0, 890.0], [719.0, 887.0]], confidence=0.9638671875, text='(डा.सत्येन्द्र  तिमिल्सिना)', bbox=[719.0, 865.0, 910.0, 890.0]),\n",
              " TextLine(polygon=[[710.0, 895.0], [913.0, 895.0], [913.0, 917.0], [710.0, 917.0]], confidence=0.9716796875, text='का.म. कार्यकारी निर्देशक', bbox=[710.0, 895.0, 913.0, 917.0]),\n",
              " TextLine(polygon=[[75.0, 949.0], [139.0, 949.0], [139.0, 966.0], [75.0, 966.0]], confidence=0.984375, text='बोधार्थ :', bbox=[75.0, 949.0, 139.0, 966.0]),\n",
              " TextLine(polygon=[[74.0, 973.0], [389.0, 979.0], [389.0, 999.0], [73.0, 993.0]], confidence=0.96533203125, text='(१)श्री नेपाल राष्ट्र बैंक, गभर्नरको कार्यालय ।', bbox=[74.0, 973.0, 389.0, 999.0]),\n",
              " TextLine(polygon=[[73.0, 995.0], [822.0, 1017.0], [821.0, 1039.0], [72.0, 1016.0]], confidence=0.96435546875, text='\\n।२) श्री नेपाल सरकार, अर्थ मन्त्रालय, वित्तीय क्षेत्र व्यवस्थापन तथा संस्थान समन्वय महाशाखा, सिंहदरबार ।', bbox=[73.0, 995.0, 822.0, 1039.0]),\n",
              " TextLine(polygon=[[71.0, 1020.0], [424.0, 1030.0], [423.0, 1050.0], [71.0, 1040.0]], confidence=0.98291015625, text='(३) श्री नेपाल राष्ट्र बैंक, बैंक स्परिवेक्षण विभाग ।', bbox=[71.0, 1020.0, 424.0, 1050.0]),\n",
              " TextLine(polygon=[[70.0, 1045.0], [491.0, 1054.0], [491.0, 1075.0], [70.0, 1066.0]], confidence=0.98681640625, text='(४) श्री नेपाल राष्ट्र बैंक, वित्तीय संस्था सपरिवेक्षण विभाग ।', bbox=[70.0, 1045.0, 491.0, 1075.0]),\n",
              " TextLine(polygon=[[70.0, 1069.0], [548.0, 1081.0], [547.0, 1103.0], [70.0, 1091.0]], confidence=0.9873046875, text='(५) श्री नेपाल राष्ट्र बैंक, गैर-बैंक वित्तीय संस्था सूपरिवेक्षण विभाग ।', bbox=[70.0, 1069.0, 548.0, 1103.0]),\n",
              " TextLine(polygon=[[70.0, 1093.0], [505.0, 1105.0], [504.0, 1126.0], [70.0, 1114.0]], confidence=0.990234375, text='(६) श्री नेपाल राष्ट्र बैंक, विदेशी विनिमय व्यवस्थापन विभाग ।', bbox=[70.0, 1093.0, 505.0, 1126.0]),\n",
              " TextLine(polygon=[[69.0, 1117.0], [443.0, 1129.0], [442.0, 1149.0], [68.0, 1138.0]], confidence=0.98583984375, text='(७) श्री नेपाल राष्ट्र बैंक, आर्थिक अन्सन्धान विभाग ।', bbox=[69.0, 1117.0, 443.0, 1149.0]),\n",
              " TextLine(polygon=[[68.0, 1143.0], [381.0, 1151.0], [380.0, 1172.0], [67.0, 1163.0]], confidence=0.97705078125, text='(८) श्री नेपाल राष्ट्र बैंक, कानून महाशाखा ।', bbox=[68.0, 1143.0, 381.0, 1172.0]),\n",
              " TextLine(polygon=[[68.0, 1167.0], [484.0, 1179.0], [484.0, 1200.0], [67.0, 1188.0]], confidence=0.9853515625, text='(९) श्री नेपाल बैंकर्स संघ, सेन्ट्रल बिजनेश पार्क, थापाथली ।', bbox=[68.0, 1167.0, 484.0, 1200.0]),\n",
              " TextLine(polygon=[[67.0, 1191.0], [446.0, 1204.0], [446.0, 1224.0], [67.0, 1212.0]], confidence=0.978515625, text='(१०) श्री डेभलपमेण्ट बैंकर्स एसोसिएसन, अनामनगर ।', bbox=[67.0, 1191.0, 446.0, 1224.0]),\n",
              " TextLine(polygon=[[67.0, 1218.0], [407.0, 1226.0], [407.0, 1247.0], [66.0, 1238.0]], confidence=0.97705078125, text='(११) श्री नेपाल वित्तीय संस्था संघ, डिल्लीबजार ।', bbox=[67.0, 1218.0, 407.0, 1247.0])]"
            ]
          },
          "execution_count": 22,
          "metadata": {},
          "output_type": "execute_result"
        }
      ],
      "source": [
        "list(predictions[0])[0][1]"
      ]
    },
    {
      "cell_type": "code",
      "execution_count": 23,
      "metadata": {
        "id": "JoL87pX-G_Pi"
      },
      "outputs": [],
      "source": [
        "#define a class for bounding boxes\n",
        "class BBox_1:\n",
        "    def __init__(self, x_min, y_min, x_max, y_max):\n",
        "        self.x_min = x_min\n",
        "        self.y_min = y_min\n",
        "        self.x_max = x_max\n",
        "        self.y_max = y_max\n",
        "\n",
        "#define a class for text lines\n",
        "class TextLine_1:\n",
        "    def __init__(self, bbox, text):\n",
        "        self.bbox = bbox\n",
        "        self.text = text\n"
      ]
    },
    {
      "cell_type": "code",
      "execution_count": 24,
      "metadata": {
        "id": "90HeWHXfIXsu"
      },
      "outputs": [],
      "source": [
        "def my_predictions(data):\n",
        "    my_data = []\n",
        "    for pred in data:\n",
        "        bbox = BBox_1(pred.bbox[0],pred.bbox[1],pred.bbox[2],pred.bbox[3])\n",
        "        my_data.append(TextLine_1(bbox,pred.text))\n",
        "    return my_data"
      ]
    },
    {
      "cell_type": "code",
      "execution_count": 25,
      "metadata": {
        "id": "dvjT0D4TIqVq"
      },
      "outputs": [],
      "source": [
        "def format_text(predictions):\n",
        "    predictions = my_predictions(list(predictions[0])[0][1])\n",
        "    #access y_min attribute of MyBBox using dot notation\n",
        "    data = sorted(predictions, key=lambda x: (x.bbox.y_min))\n",
        "    prev_y_temp = 0\n",
        "    for pred in data:\n",
        "        #access y_min and other attributes using dot notation\n",
        "        if pred.bbox.y_min - prev_y_temp < 30:\n",
        "            pred.bbox.y_min = prev_y_temp\n",
        "        else:\n",
        "            prev_y_temp = pred.bbox.y_min\n",
        "    #access y_min and x_min attributes for sorting\n",
        "    data = sorted(data, key=lambda x: (x.bbox.y_min, x.bbox.x_min))\n",
        "    formatted_text = ''\n",
        "    #access x_min attribute for minimum calculation\n",
        "    min_x = min(data, key=lambda x: x.bbox.x_min).bbox.x_min\n",
        "    min_y = data[0].bbox.y_min\n",
        "    prev_x_max = 0\n",
        "    prev_y_max = 0\n",
        "    prev_y = 0\n",
        "    for pred in data:\n",
        "        #access bbox attributes using dot notation\n",
        "        current_x = pred.bbox.x_min - min_x\n",
        "        current_y = pred.bbox.y_min - min_y\n",
        "        current_y_max = pred.bbox.y_max - min_y\n",
        "        line_breaks = '\\n' * int(((current_y - prev_y_max) / 60))\n",
        "        if line_breaks:\n",
        "            prev_x_max = 0\n",
        "        #blanks = ' ' * int(((current_x - prev_x_max) / 8))\n",
        "        formatted_text += line_breaks\n",
        "        #formatted_text += blanks\n",
        "        formatted_text += ' ' * int(current_x / 15)\n",
        "        formatted_text += pred.text + '\\n'\n",
        "        prev_x_max = pred.bbox.x_max\n",
        "        prev_y = current_y\n",
        "        prev_y_max = current_y_max\n",
        "    return formatted_text"
      ]
    },
    {
      "cell_type": "code",
      "execution_count": 26,
      "metadata": {
        "colab": {
          "base_uri": "https://localhost:8080/"
        },
        "id": "vZeUj5mGIyn4",
        "outputId": "356c29f4-b9fd-43dc-9fe6-443904e62c75"
      },
      "outputs": [
        {
          "name": "stdout",
          "output_type": "stream",
          "text": [
            "                                              बालवाटार, काठमाडौँ ।\n",
            "                                               केन्द्रीय कार्यालय\n",
            "                                             फोन नं.: ४४९९८०४/५\n",
            "                                              Web Site: www.nrb.org.np\n",
            "                                                पोष्ट बक्स:७३\n",
            "  बैंक तथा वित्तीय संस्था नियमन विभाग\n",
            " पत्र  संख्या:  बै.वि.नि.वि. / नीति / परिपत्र / ०४ / ०८० / ५१\n",
            "                                               मिति: २०८०/०६/३०\n",
            " इजाजतपत्रप्रप्राप्त “क”, “ख” र “ग” वर्गका बैंक तथा वित्तीय संस्थाहरु,\n",
            " महाशय.\n",
            "   यस वैंकवाट “क”, “ख” र “ग” वर्गका इजाजतपत्रप्राप्त बैंक तथा वित्तीय संस्थाहरुलाई जारी\n",
            " तथा संशोधनहरु एकीकृत गरी तयार पारिएको यसै साथ संलग्न एकीक्त निर्देशन, २०५० जारी गरिएको\n",
            " गरिएको एकीकृत निर्देशन, २०७९ तथा सो पश्चीत २०८० असोज मसान्तसम्म जारी गरिएका परिपत्र\n",
            " हुँदा सोहीबमोजिम गर्नु/गराउनु हुन नेपाल राष्ट्र बैंक ऐन, २०५८ को दफा ७९ ले दिएको अधिकार\n",
            " प्रयोग गरी यो निर्देशन जारी गरिएको छ ।\n",
            "\n",
            "\n",
            "                                               भवदीय\n",
            "\n",
            "                                           (डा.सत्येन्द्र  तिमिल्सिना)\n",
            "                                          का.म. कार्यकारी निर्देशक\n",
            "(१)श्री नेपाल राष्ट्र बैंक, गभर्नरको कार्यालय ।\n",
            "बोधार्थ :\n",
            "(३) श्री नेपाल राष्ट्र बैंक, बैंक स्परिवेक्षण विभाग ।\n",
            "\n",
            "।२) श्री नेपाल सरकार, अर्थ मन्त्रालय, वित्तीय क्षेत्र व्यवस्थापन तथा संस्थान समन्वय महाशाखा, सिंहदरबार ।\n",
            "(४) श्री नेपाल राष्ट्र बैंक, वित्तीय संस्था सपरिवेक्षण विभाग ।\n",
            "(५) श्री नेपाल राष्ट्र बैंक, गैर-बैंक वित्तीय संस्था सूपरिवेक्षण विभाग ।\n",
            "(७) श्री नेपाल राष्ट्र बैंक, आर्थिक अन्सन्धान विभाग ।\n",
            "(६) श्री नेपाल राष्ट्र बैंक, विदेशी विनिमय व्यवस्थापन विभाग ।\n",
            "(८) श्री नेपाल राष्ट्र बैंक, कानून महाशाखा ।\n",
            "(९) श्री नेपाल बैंकर्स संघ, सेन्ट्रल बिजनेश पार्क, थापाथली ।\n",
            "(१०) श्री डेभलपमेण्ट बैंकर्स एसोसिएसन, अनामनगर ।\n",
            "(११) श्री नेपाल वित्तीय संस्था संघ, डिल्लीबजार ।\n",
            "\n"
          ]
        }
      ],
      "source": [
        "final1 = format_text(predictions)\n",
        "print(final1)"
      ]
    },
    {
      "cell_type": "code",
      "execution_count": 14,
      "metadata": {
        "colab": {
          "base_uri": "https://localhost:8080/",
          "height": 17
        },
        "id": "ELiAE1fLJtDs",
        "outputId": "d5633286-3bc7-455a-f470-4ca70879fe02"
      },
      "outputs": [
        {
          "data": {
            "application/javascript": "\n    async function download(id, filename, size) {\n      if (!google.colab.kernel.accessAllowed) {\n        return;\n      }\n      const div = document.createElement('div');\n      const label = document.createElement('label');\n      label.textContent = `Downloading \"${filename}\": `;\n      div.appendChild(label);\n      const progress = document.createElement('progress');\n      progress.max = size;\n      div.appendChild(progress);\n      document.body.appendChild(div);\n\n      const buffers = [];\n      let downloaded = 0;\n\n      const channel = await google.colab.kernel.comms.open(id);\n      // Send a message to notify the kernel that we're ready.\n      channel.send({})\n\n      for await (const message of channel.messages) {\n        // Send a message to notify the kernel that we're ready.\n        channel.send({})\n        if (message.buffers) {\n          for (const buffer of message.buffers) {\n            buffers.push(buffer);\n            downloaded += buffer.byteLength;\n            progress.value = downloaded;\n          }\n        }\n      }\n      const blob = new Blob(buffers, {type: 'application/binary'});\n      const a = document.createElement('a');\n      a.href = window.URL.createObjectURL(blob);\n      a.download = filename;\n      div.appendChild(a);\n      a.click();\n      div.remove();\n    }\n  ",
            "text/plain": [
              "<IPython.core.display.Javascript object>"
            ]
          },
          "metadata": {},
          "output_type": "display_data"
        },
        {
          "data": {
            "application/javascript": "download(\"download_8ef5f8c6-2581-4372-9809-f3f247562a75\", \"output.txt\", 4013)",
            "text/plain": [
              "<IPython.core.display.Javascript object>"
            ]
          },
          "metadata": {},
          "output_type": "display_data"
        }
      ],
      "source": [
        "from google.colab import files\n",
        "\n",
        "#save the content of 'this' as a text file\n",
        "with open('output.txt', 'w') as file:\n",
        "    file.write(this)\n",
        "\n",
        "#downloading the file\n",
        "files.download('output.txt')\n"
      ]
    }
  ],
  "metadata": {
    "accelerator": "GPU",
    "colab": {
      "gpuType": "T4",
      "provenance": []
    },
    "kernelspec": {
      "display_name": "Python 3",
      "name": "python3"
    },
    "language_info": {
      "name": "python"
    }
  },
  "nbformat": 4,
  "nbformat_minor": 0
}
